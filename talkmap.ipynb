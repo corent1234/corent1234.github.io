{
 "cells": [
  {
   "cell_type": "markdown",
   "metadata": {},
   "source": [
    "# Leaflet cluster map of talk locations\n",
    "\n",
    "Run this from the _talks/ directory, which contains .md files of all your talks. This scrapes the location YAML field from each .md file, geolocates it with geopy/Nominatim, and uses the getorg library to output data, HTML, and Javascript for a standalone cluster map."
   ]
  },
  {
   "cell_type": "code",
   "execution_count": 2,
   "metadata": {
    "collapsed": false
   },
   "outputs": [
    {
     "name": "stdout",
     "output_type": "stream",
     "text": [
      "Requirement already up-to-date: getorg in /home/felix/.local/lib/python3.8/site-packages (0.3.1)\n",
      "Requirement already satisfied, skipping upgrade: geopy in /home/felix/.local/lib/python3.8/site-packages (from getorg) (2.4.0)\n",
      "Requirement already satisfied, skipping upgrade: pygithub in /home/felix/.local/lib/python3.8/site-packages (from getorg) (2.1.1)\n",
      "Requirement already satisfied, skipping upgrade: retrying in /home/felix/.local/lib/python3.8/site-packages (from getorg) (1.3.4)\n",
      "Requirement already satisfied, skipping upgrade: geographiclib<3,>=1.52 in /home/felix/.local/lib/python3.8/site-packages (from geopy->getorg) (2.0)\n",
      "Requirement already satisfied, skipping upgrade: pynacl>=1.4.0 in /home/felix/.local/lib/python3.8/site-packages (from pygithub->getorg) (1.5.0)\n",
      "Requirement already satisfied, skipping upgrade: python-dateutil in /home/felix/.local/lib/python3.8/site-packages (from pygithub->getorg) (2.8.2)\n",
      "Requirement already satisfied, skipping upgrade: requests>=2.14.0 in /usr/lib/python3/dist-packages (from pygithub->getorg) (2.22.0)\n",
      "Requirement already satisfied, skipping upgrade: pyjwt[crypto]>=2.4.0 in /home/felix/.local/lib/python3.8/site-packages (from pygithub->getorg) (2.8.0)\n",
      "Requirement already satisfied, skipping upgrade: typing-extensions>=4.0.0 in /home/felix/.local/lib/python3.8/site-packages (from pygithub->getorg) (4.6.3)\n",
      "Requirement already satisfied, skipping upgrade: urllib3>=1.26.0 in /home/felix/.local/lib/python3.8/site-packages (from pygithub->getorg) (2.0.6)\n",
      "Requirement already satisfied, skipping upgrade: Deprecated in /home/felix/.local/lib/python3.8/site-packages (from pygithub->getorg) (1.2.14)\n",
      "Requirement already satisfied, skipping upgrade: six>=1.7.0 in /usr/lib/python3/dist-packages (from retrying->getorg) (1.14.0)\n",
      "Requirement already satisfied, skipping upgrade: cffi>=1.4.1 in /home/felix/.local/lib/python3.8/site-packages (from pynacl>=1.4.0->pygithub->getorg) (1.16.0)\n",
      "Requirement already satisfied, skipping upgrade: cryptography>=3.4.0; extra == \"crypto\" in /home/felix/.local/lib/python3.8/site-packages (from pyjwt[crypto]>=2.4.0->pygithub->getorg) (41.0.4)\n",
      "Requirement already satisfied, skipping upgrade: wrapt<2,>=1.10 in /home/felix/.local/lib/python3.8/site-packages (from Deprecated->pygithub->getorg) (1.15.0)\n",
      "Requirement already satisfied, skipping upgrade: pycparser in /home/felix/.local/lib/python3.8/site-packages (from cffi>=1.4.1->pynacl>=1.4.0->pygithub->getorg) (2.21)\n"
     ]
    },
    {
     "name": "stderr",
     "output_type": "stream",
     "text": [
      "/usr/lib/python3/dist-packages/requests/__init__.py:89: RequestsDependencyWarning: urllib3 (2.0.6) or chardet (3.0.4) doesn't match a supported version!\n",
      "  warnings.warn(\"urllib3 ({}) or chardet ({}) doesn't match a supported \"\n"
     ]
    },
    {
     "ename": "AttributeError",
     "evalue": "module 'lib' has no attribute 'X509_V_FLAG_CB_ISSUER_CHECK'",
     "output_type": "error",
     "traceback": [
      "\u001b[0;31m---------------------------------------------------------------------------\u001b[0m",
      "\u001b[0;31mAttributeError\u001b[0m                            Traceback (most recent call last)",
      "\u001b[1;32m/home/felix/GitHub/Felix-Yvonnet.github.io/talkmap.ipynb Cell 2\u001b[0m line \u001b[0;36m3\n\u001b[1;32m      <a href='vscode-notebook-cell://wsl%2Bubuntu/home/felix/GitHub/Felix-Yvonnet.github.io/talkmap.ipynb#W1sdnNjb2RlLXJlbW90ZQ%3D%3D?line=0'>1</a>\u001b[0m get_ipython()\u001b[39m.\u001b[39msystem(\u001b[39m'\u001b[39m\u001b[39mpip install getorg --upgrade\u001b[39m\u001b[39m'\u001b[39m)\n\u001b[1;32m      <a href='vscode-notebook-cell://wsl%2Bubuntu/home/felix/GitHub/Felix-Yvonnet.github.io/talkmap.ipynb#W1sdnNjb2RlLXJlbW90ZQ%3D%3D?line=1'>2</a>\u001b[0m \u001b[39mimport\u001b[39;00m \u001b[39mglob\u001b[39;00m\n\u001b[0;32m----> <a href='vscode-notebook-cell://wsl%2Bubuntu/home/felix/GitHub/Felix-Yvonnet.github.io/talkmap.ipynb#W1sdnNjb2RlLXJlbW90ZQ%3D%3D?line=2'>3</a>\u001b[0m \u001b[39mimport\u001b[39;00m \u001b[39mgetorg\u001b[39;00m\n\u001b[1;32m      <a href='vscode-notebook-cell://wsl%2Bubuntu/home/felix/GitHub/Felix-Yvonnet.github.io/talkmap.ipynb#W1sdnNjb2RlLXJlbW90ZQ%3D%3D?line=3'>4</a>\u001b[0m \u001b[39mfrom\u001b[39;00m \u001b[39mgeopy\u001b[39;00m \u001b[39mimport\u001b[39;00m Nominatim\n",
      "File \u001b[0;32m~/.local/lib/python3.8/site-packages/getorg/__init__.py:2\u001b[0m\n\u001b[1;32m      1\u001b[0m \u001b[39mfrom\u001b[39;00m \u001b[39m__future__\u001b[39;00m \u001b[39mimport\u001b[39;00m print_function\n\u001b[0;32m----> 2\u001b[0m \u001b[39mfrom\u001b[39;00m \u001b[39mgetorg\u001b[39;00m \u001b[39mimport\u001b[39;00m orgmap\n\u001b[1;32m      3\u001b[0m \u001b[39mfrom\u001b[39;00m \u001b[39mgetorg\u001b[39;00m \u001b[39mimport\u001b[39;00m orgevents\n",
      "File \u001b[0;32m~/.local/lib/python3.8/site-packages/getorg/orgmap.py:2\u001b[0m\n\u001b[1;32m      1\u001b[0m \u001b[39mfrom\u001b[39;00m \u001b[39m__future__\u001b[39;00m \u001b[39mimport\u001b[39;00m print_function\n\u001b[0;32m----> 2\u001b[0m \u001b[39mimport\u001b[39;00m \u001b[39mgithub\u001b[39;00m\n\u001b[1;32m      3\u001b[0m \u001b[39mfrom\u001b[39;00m \u001b[39mgetorg\u001b[39;00m\u001b[39m.\u001b[39;00m\u001b[39mcore\u001b[39;00m \u001b[39mimport\u001b[39;00m \u001b[39m*\u001b[39m\n\u001b[1;32m      4\u001b[0m \u001b[39mfrom\u001b[39;00m \u001b[39mgeopy\u001b[39;00m\u001b[39m.\u001b[39;00m\u001b[39mgeocoders\u001b[39;00m \u001b[39mimport\u001b[39;00m Nominatim\n",
      "File \u001b[0;32m~/.local/lib/python3.8/site-packages/github/__init__.py:40\u001b[0m\n\u001b[1;32m     30\u001b[0m \u001b[39m\"\"\"\u001b[39;00m\n\u001b[1;32m     31\u001b[0m \u001b[39mThe primary class you will instantiate is :class:`github.MainClass.Github`.\u001b[39;00m\n\u001b[1;32m     32\u001b[0m \u001b[39mFrom its ``get_``, ``create_`` methods, you will obtain instances of all Github objects\u001b[39;00m\n\u001b[0;32m   (...)\u001b[0m\n\u001b[1;32m     35\u001b[0m \u001b[39mAll classes inherit from :class:`github.GithubObject.GithubObject`.\u001b[39;00m\n\u001b[1;32m     36\u001b[0m \u001b[39m\"\"\"\u001b[39;00m\n\u001b[1;32m     38\u001b[0m \u001b[39mimport\u001b[39;00m \u001b[39mlogging\u001b[39;00m\n\u001b[0;32m---> 40\u001b[0m \u001b[39mfrom\u001b[39;00m \u001b[39m.\u001b[39;00m \u001b[39mimport\u001b[39;00m Auth\n\u001b[1;32m     41\u001b[0m \u001b[39mfrom\u001b[39;00m \u001b[39m.\u001b[39;00m\u001b[39mAppAuthentication\u001b[39;00m \u001b[39mimport\u001b[39;00m AppAuthentication\n\u001b[1;32m     42\u001b[0m \u001b[39mfrom\u001b[39;00m \u001b[39m.\u001b[39;00m\u001b[39mGithubException\u001b[39;00m \u001b[39mimport\u001b[39;00m (\n\u001b[1;32m     43\u001b[0m     BadAttributeException,\n\u001b[1;32m     44\u001b[0m     BadCredentialsException,\n\u001b[0;32m   (...)\u001b[0m\n\u001b[1;32m     50\u001b[0m     UnknownObjectException,\n\u001b[1;32m     51\u001b[0m )\n",
      "File \u001b[0;32m~/.local/lib/python3.8/site-packages/github/Auth.py:31\u001b[0m\n\u001b[1;32m     28\u001b[0m \u001b[39mfrom\u001b[39;00m \u001b[39mtyping\u001b[39;00m \u001b[39mimport\u001b[39;00m Dict, Optional, Union\n\u001b[1;32m     30\u001b[0m \u001b[39mimport\u001b[39;00m \u001b[39mjwt\u001b[39;00m\n\u001b[0;32m---> 31\u001b[0m \u001b[39mfrom\u001b[39;00m \u001b[39mrequests\u001b[39;00m \u001b[39mimport\u001b[39;00m utils\n\u001b[1;32m     33\u001b[0m \u001b[39mfrom\u001b[39;00m \u001b[39mgithub\u001b[39;00m \u001b[39mimport\u001b[39;00m Consts\n\u001b[1;32m     34\u001b[0m \u001b[39mfrom\u001b[39;00m \u001b[39mgithub\u001b[39;00m\u001b[39m.\u001b[39;00m\u001b[39mInstallationAuthorization\u001b[39;00m \u001b[39mimport\u001b[39;00m InstallationAuthorization\n",
      "File \u001b[0;32m/usr/lib/python3/dist-packages/requests/__init__.py:95\u001b[0m\n\u001b[1;32m     93\u001b[0m \u001b[39m# Attempt to enable urllib3's SNI support, if possible\u001b[39;00m\n\u001b[1;32m     94\u001b[0m \u001b[39mtry\u001b[39;00m:\n\u001b[0;32m---> 95\u001b[0m     \u001b[39mfrom\u001b[39;00m \u001b[39murllib3\u001b[39;00m\u001b[39m.\u001b[39;00m\u001b[39mcontrib\u001b[39;00m \u001b[39mimport\u001b[39;00m pyopenssl\n\u001b[1;32m     96\u001b[0m     pyopenssl\u001b[39m.\u001b[39minject_into_urllib3()\n\u001b[1;32m     98\u001b[0m     \u001b[39m# Check cryptography version\u001b[39;00m\n",
      "File \u001b[0;32m~/.local/lib/python3.8/site-packages/urllib3/contrib/pyopenssl.py:43\u001b[0m\n\u001b[1;32m      1\u001b[0m \u001b[39m\"\"\"\u001b[39;00m\n\u001b[1;32m      2\u001b[0m \u001b[39mModule for using pyOpenSSL as a TLS backend. This module was relevant before\u001b[39;00m\n\u001b[1;32m      3\u001b[0m \u001b[39mthe standard library ``ssl`` module supported SNI, but now that we've dropped\u001b[39;00m\n\u001b[0;32m   (...)\u001b[0m\n\u001b[1;32m     38\u001b[0m \u001b[39m.. _idna: https://github.com/kjd/idna\u001b[39;00m\n\u001b[1;32m     39\u001b[0m \u001b[39m\"\"\"\u001b[39;00m\n\u001b[1;32m     41\u001b[0m \u001b[39mfrom\u001b[39;00m \u001b[39m__future__\u001b[39;00m \u001b[39mimport\u001b[39;00m annotations\n\u001b[0;32m---> 43\u001b[0m \u001b[39mimport\u001b[39;00m \u001b[39mOpenSSL\u001b[39;00m\u001b[39m.\u001b[39;00m\u001b[39mSSL\u001b[39;00m  \u001b[39m# type: ignore[import]\u001b[39;00m\n\u001b[1;32m     44\u001b[0m \u001b[39mfrom\u001b[39;00m \u001b[39mcryptography\u001b[39;00m \u001b[39mimport\u001b[39;00m x509\n\u001b[1;32m     46\u001b[0m \u001b[39mtry\u001b[39;00m:\n",
      "File \u001b[0;32m/usr/lib/python3/dist-packages/OpenSSL/__init__.py:8\u001b[0m\n\u001b[1;32m      1\u001b[0m \u001b[39m# Copyright (C) AB Strakt\u001b[39;00m\n\u001b[1;32m      2\u001b[0m \u001b[39m# See LICENSE for details.\u001b[39;00m\n\u001b[1;32m      4\u001b[0m \u001b[39m\"\"\"\u001b[39;00m\n\u001b[1;32m      5\u001b[0m \u001b[39mpyOpenSSL - A simple wrapper around the OpenSSL library\u001b[39;00m\n\u001b[1;32m      6\u001b[0m \u001b[39m\"\"\"\u001b[39;00m\n\u001b[0;32m----> 8\u001b[0m \u001b[39mfrom\u001b[39;00m \u001b[39mOpenSSL\u001b[39;00m \u001b[39mimport\u001b[39;00m crypto, SSL\n\u001b[1;32m      9\u001b[0m \u001b[39mfrom\u001b[39;00m \u001b[39mOpenSSL\u001b[39;00m\u001b[39m.\u001b[39;00m\u001b[39mversion\u001b[39;00m \u001b[39mimport\u001b[39;00m (\n\u001b[1;32m     10\u001b[0m     __author__, __copyright__, __email__, __license__, __summary__, __title__,\n\u001b[1;32m     11\u001b[0m     __uri__, __version__,\n\u001b[1;32m     12\u001b[0m )\n\u001b[1;32m     15\u001b[0m __all__ \u001b[39m=\u001b[39m [\n\u001b[1;32m     16\u001b[0m     \u001b[39m\"\u001b[39m\u001b[39mSSL\u001b[39m\u001b[39m\"\u001b[39m, \u001b[39m\"\u001b[39m\u001b[39mcrypto\u001b[39m\u001b[39m\"\u001b[39m,\n\u001b[1;32m     17\u001b[0m \n\u001b[1;32m     18\u001b[0m     \u001b[39m\"\u001b[39m\u001b[39m__author__\u001b[39m\u001b[39m\"\u001b[39m, \u001b[39m\"\u001b[39m\u001b[39m__copyright__\u001b[39m\u001b[39m\"\u001b[39m, \u001b[39m\"\u001b[39m\u001b[39m__email__\u001b[39m\u001b[39m\"\u001b[39m, \u001b[39m\"\u001b[39m\u001b[39m__license__\u001b[39m\u001b[39m\"\u001b[39m, \u001b[39m\"\u001b[39m\u001b[39m__summary__\u001b[39m\u001b[39m\"\u001b[39m,\n\u001b[1;32m     19\u001b[0m     \u001b[39m\"\u001b[39m\u001b[39m__title__\u001b[39m\u001b[39m\"\u001b[39m, \u001b[39m\"\u001b[39m\u001b[39m__uri__\u001b[39m\u001b[39m\"\u001b[39m, \u001b[39m\"\u001b[39m\u001b[39m__version__\u001b[39m\u001b[39m\"\u001b[39m,\n\u001b[1;32m     20\u001b[0m ]\n",
      "File \u001b[0;32m/usr/lib/python3/dist-packages/OpenSSL/crypto.py:1553\u001b[0m\n\u001b[1;32m   1543\u001b[0m         \u001b[39mreturn\u001b[39;00m ext\n\u001b[1;32m   1546\u001b[0m X509Type \u001b[39m=\u001b[39m deprecated(\n\u001b[1;32m   1547\u001b[0m     X509, \u001b[39m__name__\u001b[39m,\n\u001b[1;32m   1548\u001b[0m     \u001b[39m\"\u001b[39m\u001b[39mX509Type has been deprecated, use X509 instead\u001b[39m\u001b[39m\"\u001b[39m,\n\u001b[1;32m   1549\u001b[0m     \u001b[39mDeprecationWarning\u001b[39;00m\n\u001b[1;32m   1550\u001b[0m )\n\u001b[0;32m-> 1553\u001b[0m \u001b[39mclass\u001b[39;00m \u001b[39mX509StoreFlags\u001b[39;00m(\u001b[39mobject\u001b[39m):\n\u001b[1;32m   1554\u001b[0m \u001b[39m    \u001b[39m\u001b[39m\"\"\"\u001b[39;00m\n\u001b[1;32m   1555\u001b[0m \u001b[39m    Flags for X509 verification, used to change the behavior of\u001b[39;00m\n\u001b[1;32m   1556\u001b[0m \u001b[39m    :class:`X509Store`.\u001b[39;00m\n\u001b[0;32m   (...)\u001b[0m\n\u001b[1;32m   1561\u001b[0m \u001b[39m        https://www.openssl.org/docs/manmaster/man3/X509_VERIFY_PARAM_set_flags.html\u001b[39;00m\n\u001b[1;32m   1562\u001b[0m \u001b[39m    \"\"\"\u001b[39;00m\n\u001b[1;32m   1563\u001b[0m     CRL_CHECK \u001b[39m=\u001b[39m _lib\u001b[39m.\u001b[39mX509_V_FLAG_CRL_CHECK\n",
      "File \u001b[0;32m/usr/lib/python3/dist-packages/OpenSSL/crypto.py:1573\u001b[0m, in \u001b[0;36mX509StoreFlags\u001b[0;34m()\u001b[0m\n\u001b[1;32m   1571\u001b[0m NOTIFY_POLICY \u001b[39m=\u001b[39m _lib\u001b[39m.\u001b[39mX509_V_FLAG_NOTIFY_POLICY\n\u001b[1;32m   1572\u001b[0m CHECK_SS_SIGNATURE \u001b[39m=\u001b[39m _lib\u001b[39m.\u001b[39mX509_V_FLAG_CHECK_SS_SIGNATURE\n\u001b[0;32m-> 1573\u001b[0m CB_ISSUER_CHECK \u001b[39m=\u001b[39m _lib\u001b[39m.\u001b[39;49mX509_V_FLAG_CB_ISSUER_CHECK\n",
      "\u001b[0;31mAttributeError\u001b[0m: module 'lib' has no attribute 'X509_V_FLAG_CB_ISSUER_CHECK'"
     ]
    }
   ],
   "source": [
    "!pip install getorg --upgrade\n",
    "import glob\n",
    "import getorg\n",
    "from geopy import Nominatim"
   ]
  },
  {
   "cell_type": "code",
   "execution_count": 3,
   "metadata": {
    "collapsed": false
   },
   "outputs": [],
   "source": [
    "g = glob.glob(\"_talks/*.md\")"
   ]
  },
  {
   "cell_type": "code",
   "execution_count": 4,
   "metadata": {
    "collapsed": true
   },
   "outputs": [
    {
     "ename": "NameError",
     "evalue": "name 'Nominatim' is not defined",
     "output_type": "error",
     "traceback": [
      "\u001b[0;31m---------------------------------------------------------------------------\u001b[0m",
      "\u001b[0;31mNameError\u001b[0m                                 Traceback (most recent call last)",
      "\u001b[1;32m/home/felix/GitHub/Felix-Yvonnet.github.io/talkmap.ipynb Cell 4\u001b[0m line \u001b[0;36m1\n\u001b[0;32m----> <a href='vscode-notebook-cell://wsl%2Bubuntu/home/felix/GitHub/Felix-Yvonnet.github.io/talkmap.ipynb#W3sdnNjb2RlLXJlbW90ZQ%3D%3D?line=0'>1</a>\u001b[0m geocoder \u001b[39m=\u001b[39m Nominatim()\n\u001b[1;32m      <a href='vscode-notebook-cell://wsl%2Bubuntu/home/felix/GitHub/Felix-Yvonnet.github.io/talkmap.ipynb#W3sdnNjb2RlLXJlbW90ZQ%3D%3D?line=1'>2</a>\u001b[0m location_dict \u001b[39m=\u001b[39m {}\n\u001b[1;32m      <a href='vscode-notebook-cell://wsl%2Bubuntu/home/felix/GitHub/Felix-Yvonnet.github.io/talkmap.ipynb#W3sdnNjb2RlLXJlbW90ZQ%3D%3D?line=2'>3</a>\u001b[0m location \u001b[39m=\u001b[39m \u001b[39m\"\u001b[39m\u001b[39m\"\u001b[39m\n",
      "\u001b[0;31mNameError\u001b[0m: name 'Nominatim' is not defined"
     ]
    }
   ],
   "source": [
    "geocoder = Nominatim()\n",
    "location_dict = {}\n",
    "location = \"\"\n",
    "permalink = \"\"\n",
    "title = \"\""
   ]
  },
  {
   "cell_type": "code",
   "execution_count": 4,
   "metadata": {
    "collapsed": false
   },
   "outputs": [
    {
     "name": "stdout",
     "output_type": "stream",
     "text": [
      "Berkeley CA, USA \n",
      " Berkeley, Alameda County, California, United States of America\n",
      "Los Angeles, CA \n",
      " LA, Los Angeles County, California, United States of America\n",
      "London, UK \n",
      " London, Greater London, England, UK\n",
      "San Francisco, California \n",
      " SF, California, United States of America\n"
     ]
    }
   ],
   "source": [
    "\n",
    "for file in g:\n",
    "    with open(file, 'r') as f:\n",
    "        lines = f.read()\n",
    "        if lines.find('location: \"') > 1:\n",
    "            loc_start = lines.find('location: \"') + 11\n",
    "            lines_trim = lines[loc_start:]\n",
    "            loc_end = lines_trim.find('\"')\n",
    "            location = lines_trim[:loc_end]\n",
    "                            \n",
    "           \n",
    "        location_dict[location] = geocoder.geocode(location)\n",
    "        print(location, \"\\n\", location_dict[location])\n"
   ]
  },
  {
   "cell_type": "code",
   "execution_count": 5,
   "metadata": {
    "collapsed": false
   },
   "outputs": [
    {
     "data": {
      "text/plain": [
       "'Written map to ../talkmap/'"
      ]
     },
     "execution_count": 5,
     "metadata": {},
     "output_type": "execute_result"
    }
   ],
   "source": [
    "m = getorg.orgmap.create_map_obj()\n",
    "getorg.orgmap.output_html_cluster_map(location_dict, folder_name=\"../talkmap\", hashed_usernames=False)"
   ]
  },
  {
   "cell_type": "code",
   "execution_count": null,
   "metadata": {
    "collapsed": true
   },
   "outputs": [],
   "source": []
  }
 ],
 "metadata": {
  "anaconda-cloud": {},
  "kernelspec": {
   "display_name": "Python 3",
   "language": "python",
   "name": "python3"
  },
  "language_info": {
   "codemirror_mode": {
    "name": "ipython",
    "version": 3
   },
   "file_extension": ".py",
   "mimetype": "text/x-python",
   "name": "python",
   "nbconvert_exporter": "python",
   "pygments_lexer": "ipython3",
   "version": "3.8.10"
  }
 },
 "nbformat": 4,
 "nbformat_minor": 0
}
